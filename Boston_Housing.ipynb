{
 "cells": [
  {
   "cell_type": "markdown",
   "metadata": {},
   "source": [
    "#Boston_Housing_Price_Prediction#"
   ]
  },
  {
   "cell_type": "code",
   "execution_count": 45,
   "metadata": {},
   "outputs": [],
   "source": [
    "import pandas as pd\n",
    "import numpy as np\n",
    "from sklearn.datasets import load_boston\n",
    "from sklearn.model_selection import train_test_split\n",
    "from sklearn.metrics import mean_squared_error\n",
    "from sklearn import linear_model\n",
    "import matplotlib.pyplot as plt"
   ]
  },
  {
   "cell_type": "code",
   "execution_count": 46,
   "metadata": {
    "scrolled": true
   },
   "outputs": [],
   "source": [
    "boston = load_boston()"
   ]
  },
  {
   "cell_type": "code",
   "execution_count": 47,
   "metadata": {
    "scrolled": true
   },
   "outputs": [
    {
     "name": "stdout",
     "output_type": "stream",
     "text": [
      "        CRIM    ZN  INDUS  CHAS    NOX     RM   AGE     DIS  RAD    TAX  \\\n",
      "0    0.00632  18.0   2.31   0.0  0.538  6.575  65.2  4.0900  1.0  296.0   \n",
      "1    0.02731   0.0   7.07   0.0  0.469  6.421  78.9  4.9671  2.0  242.0   \n",
      "2    0.02729   0.0   7.07   0.0  0.469  7.185  61.1  4.9671  2.0  242.0   \n",
      "3    0.03237   0.0   2.18   0.0  0.458  6.998  45.8  6.0622  3.0  222.0   \n",
      "4    0.06905   0.0   2.18   0.0  0.458  7.147  54.2  6.0622  3.0  222.0   \n",
      "..       ...   ...    ...   ...    ...    ...   ...     ...  ...    ...   \n",
      "501  0.06263   0.0  11.93   0.0  0.573  6.593  69.1  2.4786  1.0  273.0   \n",
      "502  0.04527   0.0  11.93   0.0  0.573  6.120  76.7  2.2875  1.0  273.0   \n",
      "503  0.06076   0.0  11.93   0.0  0.573  6.976  91.0  2.1675  1.0  273.0   \n",
      "504  0.10959   0.0  11.93   0.0  0.573  6.794  89.3  2.3889  1.0  273.0   \n",
      "505  0.04741   0.0  11.93   0.0  0.573  6.030  80.8  2.5050  1.0  273.0   \n",
      "\n",
      "     PTRATIO       B  LSTAT  PRICE  \n",
      "0       15.3  396.90   4.98   24.0  \n",
      "1       17.8  396.90   9.14   21.6  \n",
      "2       17.8  392.83   4.03   34.7  \n",
      "3       18.7  394.63   2.94   33.4  \n",
      "4       18.7  396.90   5.33   36.2  \n",
      "..       ...     ...    ...    ...  \n",
      "501     21.0  391.99   9.67   22.4  \n",
      "502     21.0  396.90   9.08   20.6  \n",
      "503     21.0  396.90   5.64   23.9  \n",
      "504     21.0  393.45   6.48   22.0  \n",
      "505     21.0  396.90   7.88   11.9  \n",
      "\n",
      "[506 rows x 14 columns]\n"
     ]
    }
   ],
   "source": [
    "#data frame containing features(independent variable)\n",
    "df_x = pd.DataFrame(boston.data, columns = boston.feature_names)\n",
    "\n",
    "#data frame containing price(dependent variable)\n",
    "df_y = pd.DataFrame(boston.target)\n",
    "\n",
    "#a complete data frame containg features and price\n",
    "bos_data_frame = pd.DataFrame(boston.data, columns = boston.feature_names)\n",
    "bos_data_frame['PRICE'] = boston.target\n",
    "print (bos_data_frame)"
   ]
  },
  {
   "cell_type": "code",
   "execution_count": 48,
   "metadata": {},
   "outputs": [],
   "source": [
    "#initialize the linear regression model\n",
    "regr = linear_model.LinearRegression()"
   ]
  },
  {
   "cell_type": "code",
   "execution_count": 49,
   "metadata": {},
   "outputs": [],
   "source": [
    "#splitting the data into training(80%) and test(20%) sets.\n",
    "X_train, X_test, y_train, y_test = train_test_split(df_x, df_y, test_size=0.2, random_state=85)"
   ]
  },
  {
   "cell_type": "code",
   "execution_count": 50,
   "metadata": {},
   "outputs": [
    {
     "data": {
      "text/plain": [
       "LinearRegression(copy_X=True, fit_intercept=True, n_jobs=None, normalize=False)"
      ]
     },
     "execution_count": 50,
     "metadata": {},
     "output_type": "execute_result"
    }
   ],
   "source": [
    "#train our machine with the given data\n",
    "regr.fit(X_train, y_train)"
   ]
  },
  {
   "cell_type": "code",
   "execution_count": 51,
   "metadata": {},
   "outputs": [
    {
     "name": "stdout",
     "output_type": "stream",
     "text": [
      "[[-1.10899775e-01  4.82136235e-02  2.39016612e-03  2.66947570e+00\n",
      "  -2.03845687e+01  3.14687278e+00  1.28214568e-02 -1.59461040e+00\n",
      "   3.19751742e-01 -1.24244930e-02 -9.96783050e-01  8.37398340e-03\n",
      "  -5.71748884e-01]]\n"
     ]
    }
   ],
   "source": [
    "#printing the weights/coefficients of each feature/column in the dataframe\n",
    "print(regr.coef_)"
   ]
  },
  {
   "cell_type": "code",
   "execution_count": 52,
   "metadata": {
    "scrolled": true
   },
   "outputs": [
    {
     "name": "stdout",
     "output_type": "stream",
     "text": [
      "[[14.86827987]\n",
      " [27.28183345]\n",
      " [19.21375669]\n",
      " [24.342587  ]\n",
      " [25.96426023]\n",
      " [28.17973945]\n",
      " [23.53818969]\n",
      " [28.46413207]\n",
      " [22.70273306]\n",
      " [41.66904175]\n",
      " [32.1834166 ]\n",
      " [21.10781677]\n",
      " [10.19639138]\n",
      " [23.47252829]\n",
      " [ 5.66380312]\n",
      " [27.16635703]\n",
      " [12.94247591]\n",
      " [32.47329792]\n",
      " [20.81784179]\n",
      " [17.06248153]\n",
      " [31.09348278]\n",
      " [20.64662032]\n",
      " [12.97321906]\n",
      " [33.14339481]\n",
      " [26.11156751]\n",
      " [20.75247477]\n",
      " [26.71980778]\n",
      " [22.09768247]\n",
      " [32.71657824]\n",
      " [31.91802865]\n",
      " [19.53260573]\n",
      " [25.37591348]\n",
      " [28.18219604]\n",
      " [16.61803629]\n",
      " [21.39078171]\n",
      " [27.40724426]\n",
      " [14.64848513]\n",
      " [17.29920499]\n",
      " [18.75890383]\n",
      " [21.32367959]\n",
      " [ 9.27497128]\n",
      " [18.95936076]\n",
      " [19.64003149]\n",
      " [19.61249339]\n",
      " [17.49671813]\n",
      " [15.91168362]\n",
      " [19.25780045]\n",
      " [16.53640874]\n",
      " [20.22425536]\n",
      " [13.73853345]\n",
      " [26.79506222]\n",
      " [20.67729134]\n",
      " [34.87695794]\n",
      " [16.45818991]\n",
      " [16.96557634]\n",
      " [27.22255321]\n",
      " [17.03754998]\n",
      " [18.08540724]\n",
      " [24.28126306]\n",
      " [27.28902298]\n",
      " [19.00350512]\n",
      " [20.12963332]\n",
      " [29.99760827]\n",
      " [19.41557041]\n",
      " [ 6.4658343 ]\n",
      " [42.68372331]\n",
      " [24.80190591]\n",
      " [44.14830987]\n",
      " [35.48198283]\n",
      " [27.99508476]\n",
      " [29.03913298]\n",
      " [35.69712605]\n",
      " [26.27410596]\n",
      " [27.40851017]\n",
      " [16.49136214]\n",
      " [24.12992825]\n",
      " [ 7.25445153]\n",
      " [14.33600604]\n",
      " [26.11883944]\n",
      " [31.09276313]\n",
      " [24.140833  ]\n",
      " [13.92365672]\n",
      " [33.99374667]\n",
      " [13.78255981]\n",
      " [37.27995581]\n",
      " [26.61256932]\n",
      " [22.88513151]\n",
      " [24.99144042]\n",
      " [17.79043969]\n",
      " [26.94538768]\n",
      " [34.62957826]\n",
      " [24.14130945]\n",
      " [ 9.32067864]\n",
      " [39.17652498]\n",
      " [14.79052093]\n",
      " [16.8718502 ]\n",
      " [23.69712375]\n",
      " [ 8.72186188]\n",
      " [23.42722951]\n",
      " [17.69616895]\n",
      " [22.0218692 ]\n",
      " [34.47668854]]\n"
     ]
    }
   ],
   "source": [
    "#price prediction on test data\n",
    "y_pred = regr.predict(X_test)\n",
    "print (y_pred)"
   ]
  },
  {
   "cell_type": "code",
   "execution_count": 53,
   "metadata": {
    "scrolled": true
   },
   "outputs": [
    {
     "name": "stdout",
     "output_type": "stream",
     "text": [
      "[[14.8]\n",
      " [22.1]\n",
      " [19.5]\n",
      " [19.2]\n",
      " [19.4]\n",
      " [42.8]\n",
      " [24.4]\n",
      " [23.3]\n",
      " [20.6]\n",
      " [48.5]\n",
      " [33.2]\n",
      " [16.2]\n",
      " [ 8.3]\n",
      " [23. ]\n",
      " [ 7.4]\n",
      " [23.2]\n",
      " [ 7.5]\n",
      " [30.3]\n",
      " [20.4]\n",
      " [18.1]\n",
      " [32.2]\n",
      " [20.5]\n",
      " [ 9.5]\n",
      " [28.2]\n",
      " [20.7]\n",
      " [19.3]\n",
      " [22.8]\n",
      " [22.7]\n",
      " [29.8]\n",
      " [32.5]\n",
      " [19.9]\n",
      " [21.6]\n",
      " [31.2]\n",
      " [23.1]\n",
      " [18.8]\n",
      " [22.6]\n",
      " [11.5]\n",
      " [13.9]\n",
      " [20.1]\n",
      " [19. ]\n",
      " [14.4]\n",
      " [17.5]\n",
      " [20.3]\n",
      " [18.4]\n",
      " [19.4]\n",
      " [20.1]\n",
      " [20.8]\n",
      " [21.9]\n",
      " [13.1]\n",
      " [13.6]\n",
      " [23.3]\n",
      " [21.5]\n",
      " [33.8]\n",
      " [17.5]\n",
      " [17.1]\n",
      " [23.7]\n",
      " [19.1]\n",
      " [22.5]\n",
      " [24.7]\n",
      " [24.5]\n",
      " [16. ]\n",
      " [24.1]\n",
      " [24.3]\n",
      " [18.3]\n",
      " [ 5. ]\n",
      " [50. ]\n",
      " [24.7]\n",
      " [50. ]\n",
      " [35.1]\n",
      " [22. ]\n",
      " [28.4]\n",
      " [33.4]\n",
      " [22. ]\n",
      " [26.6]\n",
      " [15. ]\n",
      " [20.1]\n",
      " [ 8.5]\n",
      " [13.4]\n",
      " [25. ]\n",
      " [23.6]\n",
      " [22.2]\n",
      " [13.5]\n",
      " [34.9]\n",
      " [13.3]\n",
      " [44. ]\n",
      " [24.8]\n",
      " [22.4]\n",
      " [25.3]\n",
      " [17.8]\n",
      " [23.8]\n",
      " [39.8]\n",
      " [20.3]\n",
      " [ 7.2]\n",
      " [50. ]\n",
      " [19. ]\n",
      " [17.6]\n",
      " [23.8]\n",
      " [ 8.7]\n",
      " [19.6]\n",
      " [19.5]\n",
      " [21.2]\n",
      " [34.6]]\n"
     ]
    }
   ],
   "source": [
    "#converting pandas dataframe into numpy array\n",
    "y_test_np = y_test.values\n",
    "\n",
    "#print actual values of the price\n",
    "print(y_test_np)"
   ]
  },
  {
   "cell_type": "code",
   "execution_count": 54,
   "metadata": {},
   "outputs": [
    {
     "name": "stdout",
     "output_type": "stream",
     "text": [
      "Root mean squared error =  3.7487526836032323\n"
     ]
    }
   ],
   "source": [
    "#root mean square error\n",
    "rmse = mean_squared_error(y_test_np ,y_pred, squared = False)\n",
    "print (\"Root mean squared error = \", rmse)"
   ]
  },
  {
   "cell_type": "code",
   "execution_count": 55,
   "metadata": {
    "scrolled": true
   },
   "outputs": [
    {
     "data": {
      "text/plain": [
       "[]"
      ]
     },
     "execution_count": 55,
     "metadata": {},
     "output_type": "execute_result"
    },
    {
     "data": {
      "image/png": "[encoded data removed]",
      "text/plain": [
       "<Figure size 432x288 with 1 Axes>"
      ]
     },
     "metadata": {
      "needs_background": "light"
     },
     "output_type": "display_data"
    }
   ],
   "source": [
    "#plotting Original Prices vs Predicted Prices\n",
    "plt.scatter(y_test_np, y_pred)\n",
    "plt.xlabel(\"Original Prices\")\n",
    "plt.ylabel(\"Prediced Prices\")\n",
    "plt.title(\"Predicted vs Original Prices\")\n",
    "plt.plot()"
   ]
  },
  {
   "cell_type": "code",
   "execution_count": null,
   "metadata": {},
   "outputs": [],
   "source": []
  }
 ],
 "metadata": {
  "kernelspec": {
   "display_name": "Python 3",
   "language": "python",
   "name": "python3"
  },
  "language_info": {
   "codemirror_mode": {
    "name": "ipython",
    "version": 3
   },
   "file_extension": ".py",
   "mimetype": "text/x-python",
   "name": "python",
   "nbconvert_exporter": "python",
   "pygments_lexer": "ipython3",
   "version": "3.7.6"
  }
 },
 "nbformat": 4,
 "nbformat_minor": 2
}
